{
 "cells": [
  {
   "cell_type": "code",
   "execution_count": null,
   "id": "88269a07",
   "metadata": {},
   "outputs": [],
   "source": [
    "def print_full_name(first, last):\n",
    "    f\"Hello {first} {last}! You just delved into python.\"\n",
    "\n",
    "first= \"ali\"\n",
    "\n",
    "last= \"Shishehgar\"\n",
    "\n",
    "print_full_name(first, last)"
   ]
  },
  {
   "cell_type": "code",
   "execution_count": 12,
   "id": "927a8075",
   "metadata": {},
   "outputs": [],
   "source": [
    "s=\"asdf5gg\""
   ]
  },
  {
   "cell_type": "code",
   "execution_count": 13,
   "id": "e94c996c",
   "metadata": {},
   "outputs": [
    {
     "name": "stdout",
     "output_type": "stream",
     "text": [
      "True\n"
     ]
    }
   ],
   "source": [
    "b"
   ]
  },
  {
   "cell_type": "code",
   "execution_count": 14,
   "id": "e57572ce",
   "metadata": {},
   "outputs": [
    {
     "name": "stdout",
     "output_type": "stream",
     "text": [
      "qA2\n",
      "True\n",
      "False\n",
      "False\n",
      "False\n",
      "False\n"
     ]
    }
   ],
   "source": [
    "if __name__ == '__main__':\n",
    "    s = input()\n",
    "    print(any(s.isalnum() for char in s))\n",
    "    print(any(s.isalpha() for char in s))\n",
    "    print(any(s.isdigit() for char in s))\n",
    "    print(any(s.islower() for char in s))\n",
    "    print(any(s.isupper() for char in s))"
   ]
  },
  {
   "cell_type": "code",
   "execution_count": null,
   "id": "7384cbd5",
   "metadata": {},
   "outputs": [],
   "source": []
  }
 ],
 "metadata": {
  "kernelspec": {
   "display_name": "Python 3 (ipykernel)",
   "language": "python",
   "name": "python3"
  },
  "language_info": {
   "codemirror_mode": {
    "name": "ipython",
    "version": 3
   },
   "file_extension": ".py",
   "mimetype": "text/x-python",
   "name": "python",
   "nbconvert_exporter": "python",
   "pygments_lexer": "ipython3",
   "version": "3.10.6"
  },
  "toc": {
   "base_numbering": 1,
   "nav_menu": {},
   "number_sections": true,
   "sideBar": true,
   "skip_h1_title": false,
   "title_cell": "Table of Contents",
   "title_sidebar": "Contents",
   "toc_cell": false,
   "toc_position": {},
   "toc_section_display": true,
   "toc_window_display": false
  }
 },
 "nbformat": 4,
 "nbformat_minor": 5
}
